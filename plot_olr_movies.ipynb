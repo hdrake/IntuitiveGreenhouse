{
 "cells": [
  {
   "cell_type": "code",
   "execution_count": 1,
   "metadata": {},
   "outputs": [],
   "source": [
    "import numpy as np\n",
    "import sys,os\n",
    "from scipy import interpolate\n",
    "\n",
    "import matplotlib.pyplot as plt\n",
    "%matplotlib inline\n",
    "plt.style.use('dark_background')\n",
    "from matplotlib.ticker import FormatStrFormatter\n",
    "\n",
    "sys.path.append(\"..\")\n",
    "import pyrads\n",
    "\n",
    "from scipy.integrate import trapz,simps,cumtrapz\n"
   ]
  },
  {
   "cell_type": "code",
   "execution_count": 2,
   "metadata": {},
   "outputs": [],
   "source": [
    "S = 1361.5\n",
    "albedo = 0.30\n",
    "ISR = ((1-albedo)*S)/4."
   ]
  },
  {
   "cell_type": "code",
   "execution_count": 3,
   "metadata": {},
   "outputs": [],
   "source": [
    "data = np.load(\"output/olr_dense.npz\")"
   ]
  },
  {
   "cell_type": "code",
   "execution_count": 4,
   "metadata": {},
   "outputs": [],
   "source": [
    "olr_spec = data[\"olr_spec\"]\n",
    "CO2_vec = data[\"CO2_vec\"]\n",
    "Ts_vec = data[\"Ts_vec\"]\n",
    "Tstrat = data[\"Tstrat\"]\n",
    "n = data[\"n\"]\n",
    "B_strat = data[\"B_strat\"]\n",
    "B_surf = data[\"B_surf\"]\n",
    "RH = data[\"RH\"]\n",
    "\n",
    "CO2_vec = np.insert(CO2_vec,0,0.)\n",
    "olr_spec = np.insert(olr_spec,0,B_surf[0,:,:],axis=0);"
   ]
  },
  {
   "cell_type": "code",
   "execution_count": 5,
   "metadata": {},
   "outputs": [],
   "source": [
    "def smooth_func_n(func,n,smoothing = 100):\n",
    "    func_smooth = np.array([np.average(func[i*smoothing:(i+1)*smoothing])\n",
    "                                for i in range(len(n)//smoothing)])\n",
    "    n_smooth = np.array([np.average(n[i*smoothing:(i+1)*smoothing]) for i in range(len(n)//smoothing)])\n",
    "    return func_smooth, n_smooth"
   ]
  },
  {
   "cell_type": "code",
   "execution_count": 6,
   "metadata": {},
   "outputs": [],
   "source": [
    "iterations_CO2 = [0.]\n",
    "for dec in [1.e-1,1.e0,1.e1,1.e2,1.e3]:\n",
    "    for i in np.arange(10.,101.,1.):\n",
    "        iterations_CO2.append(round(CO2_vec[1]*dec*i/10.,9))\n"
   ]
  },
  {
   "cell_type": "code",
   "execution_count": 18,
   "metadata": {},
   "outputs": [
    {
     "name": "stdout",
     "output_type": "stream",
     "text": [
      "Slowly increasing CO2 levels:\n",
      "0.0\n",
      "1.8\n",
      "27.0\n",
      "360.0\n",
      "4500.0\n"
     ]
    },
    {
     "data": {
      "text/plain": [
       "<Figure size 1920x1080 with 0 Axes>"
      ]
     },
     "metadata": {},
     "output_type": "display_data"
    }
   ],
   "source": [
    "my_dpi=200.\n",
    "plt.figure(figsize=(1920./my_dpi,1080./my_dpi),dpi=my_dpi)\n",
    "\n",
    "frame_count = 0\n",
    "fadeout = 1.0\n",
    "fadein = 0.0\n",
    "\n",
    "Ts_acc = np.array([])\n",
    "CO2_acc = np.array([])\n",
    "print('Slowly increasing CO2 levels:')\n",
    "for CO2 in iterations_CO2:\n",
    "    if (CO2*1.e6) > 5000.: break\n",
    "        \n",
    "    if not(frame_count%100): print(CO2*1.e6)\n",
    "    CO2_acc = np.append(CO2_acc,CO2)\n",
    "    \n",
    "    CO2_idx = np.sort(np.argsort(np.abs(CO2_vec-CO2))[0:3])\n",
    "\n",
    "    itp_olr_spec_CO2 = interpolate.interp1d(CO2_vec[CO2_idx],olr_spec[CO2_idx,:,:],axis=0)\n",
    "    itp_olr_B_strat = interpolate.interp1d(CO2_vec[CO2_idx],B_strat[CO2_idx,:,:],axis=0)\n",
    "    itp_olr_B_surf = interpolate.interp1d(CO2_vec[CO2_idx],B_surf[CO2_idx,:,:],axis=0)\n",
    "\n",
    "    olr_spec_interp = itp_olr_spec_CO2(CO2)\n",
    "    B_strat_interp = itp_olr_B_strat(CO2)\n",
    "    B_surf_interp = itp_olr_B_surf(CO2)\n",
    "    olr_interp = simps(olr_spec_interp,n,axis=1)\n",
    "\n",
    "    olr_idx = np.sort(np.argsort(np.abs(olr_interp-ISR))[0:3])\n",
    "\n",
    "    itp_olr = interpolate.interp1d(olr_interp[olr_idx],olr_spec_interp[olr_idx,:],axis=0)\n",
    "    itp_B_strat = interpolate.interp1d(olr_interp[olr_idx],B_strat_interp[olr_idx,:],axis=0)\n",
    "    itp_B_surf = interpolate.interp1d(olr_interp[olr_idx],B_surf_interp[olr_idx,:],axis=0)\n",
    "    itp_Ts = interpolate.interp1d(olr_interp[olr_idx],Ts_vec[olr_idx],axis=0)\n",
    "\n",
    "    olr_balanced = itp_olr(ISR)\n",
    "    B_strat_balanced = itp_B_strat(ISR)\n",
    "    B_surf_balanced = itp_B_surf(ISR)\n",
    "    Ts_balanced = itp_Ts(ISR)\n",
    "    Ts_acc = np.append(Ts_acc,Ts_balanced)\n",
    "    \n",
    "    GH_effect = simps(B_surf_balanced-olr_balanced,n)\n",
    "\n",
    "    olr_balanced_smooth, n_smooth = smooth_func_n(olr_balanced,n,50)\n",
    "    B_surf_balanced_smooth, n_smooth = smooth_func_n(B_surf_balanced,n,50)\n",
    "\n",
    "    plt.subplot2grid((2, 2), (0, 0), colspan=2)\n",
    "    plt.fill_between(n_smooth,olr_balanced_smooth,B_surf_balanced_smooth,color='yellow',alpha=0.2)\n",
    "    plt.plot(n_smooth,olr_balanced_smooth,'-',color='white',lw=2)\n",
    "    plt.plot(n,B_surf_balanced,linestyle='--',color='red',lw=2)\n",
    "    plt.plot(n,B_strat_balanced,linestyle='--',color='dodgerblue',lw=2)\n",
    "    plt.xlim([0,3500])\n",
    "    plt.ylim([0,0.5])\n",
    "    plt.xlabel(r'wavenumber [cm$^{-1}$]')\n",
    "    plt.ylabel(r'flux [W m$^{-2}$ cm]')\n",
    "    plt.plot([620.,620.],[0.,0.5],'-',color='white',alpha=0.2)\n",
    "    plt.plot([725.,725.],[0.,0.5],'-',color='white',alpha=0.2)\n",
    "\n",
    "    plt.annotate(s=r\"CO$_{{2}}$: ${0}$ ppm\".format(round(CO2*1.e6,2)),\n",
    "                 color='lightgray', fontsize = 9., xy=(25.,0.46))\n",
    "    plt.annotate(s=r\"Outgoing longwave radiation (OLR)\",\n",
    "                 color='white',xy=(1800.,0.45))\n",
    "    plt.annotate(s=r\"Blackbody radiation for $T_{{surface}} = {0}$ K\".format(round(Ts_balanced,1)),\n",
    "                 color='red',xy=(1800.,0.4))\n",
    "    plt.annotate(s=r\"Greenhouse effect: $\\sigma T_{{surface}}^{{4}} - OLR_{{total}}  = {0}$ W/m$^{{2}}$\".format(round(GH_effect)),\n",
    "                 color='yellow',xy=(1800.,0.35))\n",
    "    plt.annotate(s=r\"Blackbody radiation for $T_{{stratosphere}} = {0}$ K\".format(round(Tstrat)),\n",
    "                 color='dodgerblue',xy=(1800.,0.30))\n",
    "\n",
    "    caption = (r\"Planetary energy balance with Solar constant $S_{0}=1361.5$ and albedo $\\alpha = 0.3$.\"\n",
    "               \"\\n\"\n",
    "               r\"The atmosphere follows a moist adiabat until it reaches an isothermal stratosphere.\"\n",
    "               \"\\n\"\n",
    "               r\"Relative humidity is fixed at 0.8. The only greenhouse gases included are CO$_{2}$ and H$_{2}$0.\"\n",
    "               \"\\n\\nRadiative transfer calculated with github.com/ddbkoll/PyRADS\"\n",
    "               \"\\nPlotting routines and processed data at github.com/hdrake/IntuitiveGreenhouse\"\n",
    "              )\n",
    "    \n",
    "    final_caption = (\"Note that the only feedback this calculation includes is the water vapor feedback.\\n\\n\"\n",
    "                     \"The evidence from more comprehensive climate models and past climates is that\\n\"\n",
    "                     r\"Earth will warm by 2$^{\\circ}$C to 4.5$^{\\circ}$C every time CO$_{2}$ double.\"\n",
    "                     \"\\n\\n\"\n",
    "                     r\"Since the 1800s, humans have already increased CO$_{2}$ concentrations by roughly 45%\"\n",
    "                     \"\\n\"\n",
    "                     r\"and global temperatures have risen by roughly 1$^{\\circ}$C (or 1.8$^{\\circ}$F).\"\n",
    "                    )\n",
    "    \n",
    "    if frame_count<100:\n",
    "        if frame_count>20:\n",
    "            fadeout = max(0.,fadeout-0.0125)\n",
    "        plt.text(1800,0.09,caption,fontsize=6.5,alpha=fadeout)\n",
    "    elif frame_count>380:\n",
    "        fadein = min(1.0,fadein+0.05)\n",
    "        plt.text(1800,0.065,final_caption,fontsize=6.5,alpha=fadein)\n",
    "\n",
    "    plt.subplot2grid((2, 2), (1, 0), colspan=1)\n",
    "    plt.plot(n,olr_balanced,'-',color='white',lw=1.5)\n",
    "    plt.plot(n,B_surf_balanced,linestyle='--',color='red',lw=2)\n",
    "    plt.plot(n,B_strat_balanced,linestyle='--',color='dodgerblue',lw=2)\n",
    "    plt.xlim([620,725])\n",
    "    plt.ylim([0,0.5])\n",
    "    plt.xlabel(r'wavenumber [cm$^{-1}$]')\n",
    "    plt.ylabel(r'flux [W m$^{-2}$ cm]')\n",
    "\n",
    "    ax = plt.subplot2grid((2, 2), (1, 1), colspan=1)\n",
    "    plt.semilogx(CO2_acc*1.e6,Ts_acc,'-',color='red',lw=2)\n",
    "    plt.yticks(np.arange(270.,310.,10.),np.arange(270.,310.,10.))\n",
    "    ax.yaxis.set_major_formatter(FormatStrFormatter('%g'))\n",
    "    plt.ylabel(r'$T_{surface}$ [K]')\n",
    "    plt.xlabel(r'$CO_{2}$ [ppm]')\n",
    "    plt.ylim([270.,300.])\n",
    "    plt.xlim([1.e0,5.e3])\n",
    "    plt.grid(True,alpha=0.3)\n",
    "\n",
    "    plt.tight_layout()\n",
    "\n",
    "    arrowprops = dict(arrowstyle=\"-\",alpha=0.2)\n",
    "    plt.annotate(r'CO$_{2}$ absorption band',xy=(0.18,0.492),xycoords='figure fraction',color='white')\n",
    "\n",
    "    \n",
    "    plt.annotate('@henrifdrake',xy=(0.0125,0.02),xycoords='figure fraction',fontsize=10,fontweight='roman',color=(175./255.,252./255.,255./255.))\n",
    "    plt.annotate('/u/aClimateScientist',xy=(0.840,0.02),xycoords='figure fraction',fontsize=10,fontweight='roman',color=(175./255.,252./255.,255./255.))\n",
    "\n",
    "\n",
    "    plt.savefig('figures/{0}.png'.format(np.str(frame_count).zfill(4)))\n",
    "    plt.clf()\n",
    "    \n",
    "    frame_count+=1\n"
   ]
  },
  {
   "cell_type": "code",
   "execution_count": null,
   "metadata": {},
   "outputs": [],
   "source": []
  }
 ],
 "metadata": {
  "kernelspec": {
   "display_name": "Python 2",
   "language": "python",
   "name": "python2"
  },
  "language_info": {
   "codemirror_mode": {
    "name": "ipython",
    "version": 2
   },
   "file_extension": ".py",
   "mimetype": "text/x-python",
   "name": "python",
   "nbconvert_exporter": "python",
   "pygments_lexer": "ipython2",
   "version": "2.7.16"
  }
 },
 "nbformat": 4,
 "nbformat_minor": 2
}
